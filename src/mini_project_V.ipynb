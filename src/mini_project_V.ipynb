{
 "cells": [
  {
   "cell_type": "markdown",
   "metadata": {},
   "source": [
    "## Identifying Duplicate Questions"
   ]
  },
  {
   "cell_type": "markdown",
   "metadata": {},
   "source": [
    "Over 100 million people visit Quora every month, so it's no surprise that many people ask similar (or the same) questions. Various questions with the same intent can cause people to spend extra time searching for the best answer to their question, and results in members answering multiple versions of the same question. Quora uses random forest to identify duplicated questions to provide a better experience to active seekers and writers, and offer more value to both of these groups in the long term.\n",
    "Follow the steps outlined below to build the appropriate classifier model. \n",
    "\n",
    "\n",
    "Steps:\n",
    "- Download data\n",
    "- Exploration\n",
    "- Cleaning\n",
    "- Feature Engineering\n",
    "- Modeling\n",
    "\n",
    "By the end of this project you should have **a presentation that describes the model you built** and its **performance**. \n"
   ]
  },
  {
   "cell_type": "code",
   "execution_count": 48,
   "metadata": {},
   "outputs": [],
   "source": [
    "import pandas as pd\n",
    "import matplotlib.pyplot as plt\n",
    "import numpy as np"
   ]
  },
  {
   "cell_type": "code",
   "execution_count": 49,
   "metadata": {},
   "outputs": [],
   "source": [
    "df = pd.read_csv(\"../data/data.csv\")"
   ]
  },
  {
   "cell_type": "markdown",
   "metadata": {},
   "source": [
    "#### Note\n",
    "There is no designated test.csv file. The train.csv file is the entire dataset. Part of the data in the train.csv file should be set aside to act as the final testing data."
   ]
  },
  {
   "cell_type": "code",
   "execution_count": 50,
   "metadata": {},
   "outputs": [
    {
     "data": {
      "text/html": [
       "<div>\n",
       "<style scoped>\n",
       "    .dataframe tbody tr th:only-of-type {\n",
       "        vertical-align: middle;\n",
       "    }\n",
       "\n",
       "    .dataframe tbody tr th {\n",
       "        vertical-align: top;\n",
       "    }\n",
       "\n",
       "    .dataframe thead th {\n",
       "        text-align: right;\n",
       "    }\n",
       "</style>\n",
       "<table border=\"1\" class=\"dataframe\">\n",
       "  <thead>\n",
       "    <tr style=\"text-align: right;\">\n",
       "      <th></th>\n",
       "      <th>id</th>\n",
       "      <th>qid1</th>\n",
       "      <th>qid2</th>\n",
       "      <th>question1</th>\n",
       "      <th>question2</th>\n",
       "      <th>is_duplicate</th>\n",
       "    </tr>\n",
       "  </thead>\n",
       "  <tbody>\n",
       "    <tr>\n",
       "      <th>0</th>\n",
       "      <td>0</td>\n",
       "      <td>1</td>\n",
       "      <td>2</td>\n",
       "      <td>What is the step by step guide to invest in sh...</td>\n",
       "      <td>What is the step by step guide to invest in sh...</td>\n",
       "      <td>0</td>\n",
       "    </tr>\n",
       "    <tr>\n",
       "      <th>1</th>\n",
       "      <td>1</td>\n",
       "      <td>3</td>\n",
       "      <td>4</td>\n",
       "      <td>What is the story of Kohinoor (Koh-i-Noor) Dia...</td>\n",
       "      <td>What would happen if the Indian government sto...</td>\n",
       "      <td>0</td>\n",
       "    </tr>\n",
       "    <tr>\n",
       "      <th>2</th>\n",
       "      <td>2</td>\n",
       "      <td>5</td>\n",
       "      <td>6</td>\n",
       "      <td>How can I increase the speed of my internet co...</td>\n",
       "      <td>How can Internet speed be increased by hacking...</td>\n",
       "      <td>0</td>\n",
       "    </tr>\n",
       "    <tr>\n",
       "      <th>3</th>\n",
       "      <td>3</td>\n",
       "      <td>7</td>\n",
       "      <td>8</td>\n",
       "      <td>Why am I mentally very lonely? How can I solve...</td>\n",
       "      <td>Find the remainder when [math]23^{24}[/math] i...</td>\n",
       "      <td>0</td>\n",
       "    </tr>\n",
       "    <tr>\n",
       "      <th>4</th>\n",
       "      <td>4</td>\n",
       "      <td>9</td>\n",
       "      <td>10</td>\n",
       "      <td>Which one dissolve in water quikly sugar, salt...</td>\n",
       "      <td>Which fish would survive in salt water?</td>\n",
       "      <td>0</td>\n",
       "    </tr>\n",
       "  </tbody>\n",
       "</table>\n",
       "</div>"
      ],
      "text/plain": [
       "   id  qid1  qid2                                          question1  \\\n",
       "0   0     1     2  What is the step by step guide to invest in sh...   \n",
       "1   1     3     4  What is the story of Kohinoor (Koh-i-Noor) Dia...   \n",
       "2   2     5     6  How can I increase the speed of my internet co...   \n",
       "3   3     7     8  Why am I mentally very lonely? How can I solve...   \n",
       "4   4     9    10  Which one dissolve in water quikly sugar, salt...   \n",
       "\n",
       "                                           question2  is_duplicate  \n",
       "0  What is the step by step guide to invest in sh...             0  \n",
       "1  What would happen if the Indian government sto...             0  \n",
       "2  How can Internet speed be increased by hacking...             0  \n",
       "3  Find the remainder when [math]23^{24}[/math] i...             0  \n",
       "4            Which fish would survive in salt water?             0  "
      ]
     },
     "execution_count": 50,
     "metadata": {},
     "output_type": "execute_result"
    }
   ],
   "source": [
    "df.head()"
   ]
  },
  {
   "cell_type": "code",
   "execution_count": 88,
   "metadata": {},
   "outputs": [
    {
     "data": {
      "text/plain": [
       "'What is the step by step guide to invest in share market in india?'"
      ]
     },
     "execution_count": 88,
     "metadata": {},
     "output_type": "execute_result"
    }
   ],
   "source": [
    "df['question1'].iloc[0]"
   ]
  },
  {
   "cell_type": "code",
   "execution_count": 89,
   "metadata": {},
   "outputs": [
    {
     "data": {
      "text/plain": [
       "'What is the step by step guide to invest in share market?'"
      ]
     },
     "execution_count": 89,
     "metadata": {},
     "output_type": "execute_result"
    }
   ],
   "source": [
    "df['question2'].iloc[0]"
   ]
  },
  {
   "cell_type": "markdown",
   "metadata": {},
   "source": [
    "### Exploration"
   ]
  },
  {
   "cell_type": "code",
   "execution_count": 51,
   "metadata": {},
   "outputs": [
    {
     "data": {
      "text/plain": [
       "290654"
      ]
     },
     "execution_count": 51,
     "metadata": {},
     "output_type": "execute_result"
    }
   ],
   "source": [
    "df['qid1'].nunique()"
   ]
  },
  {
   "cell_type": "code",
   "execution_count": 52,
   "metadata": {},
   "outputs": [
    {
     "data": {
      "text/plain": [
       "8461      50\n",
       "14110     48\n",
       "1749      47\n",
       "20628     47\n",
       "25984     47\n",
       "          ..\n",
       "223037     1\n",
       "223039     1\n",
       "223041     1\n",
       "223043     1\n",
       "537932     1\n",
       "Name: qid1, Length: 290654, dtype: int64"
      ]
     },
     "execution_count": 52,
     "metadata": {},
     "output_type": "execute_result"
    }
   ],
   "source": [
    "df['qid1'].value_counts()"
   ]
  },
  {
   "cell_type": "code",
   "execution_count": 53,
   "metadata": {},
   "outputs": [
    {
     "data": {
      "text/html": [
       "<div>\n",
       "<style scoped>\n",
       "    .dataframe tbody tr th:only-of-type {\n",
       "        vertical-align: middle;\n",
       "    }\n",
       "\n",
       "    .dataframe tbody tr th {\n",
       "        vertical-align: top;\n",
       "    }\n",
       "\n",
       "    .dataframe thead th {\n",
       "        text-align: right;\n",
       "    }\n",
       "</style>\n",
       "<table border=\"1\" class=\"dataframe\">\n",
       "  <thead>\n",
       "    <tr style=\"text-align: right;\">\n",
       "      <th></th>\n",
       "      <th>id</th>\n",
       "      <th>qid1</th>\n",
       "      <th>qid2</th>\n",
       "      <th>question1</th>\n",
       "      <th>question2</th>\n",
       "      <th>is_duplicate</th>\n",
       "    </tr>\n",
       "  </thead>\n",
       "  <tbody>\n",
       "    <tr>\n",
       "      <th>4279</th>\n",
       "      <td>4279</td>\n",
       "      <td>8461</td>\n",
       "      <td>8462</td>\n",
       "      <td>How do I improve my English speaking?</td>\n",
       "      <td>How do I improve my pronunciation in English?</td>\n",
       "      <td>1</td>\n",
       "    </tr>\n",
       "    <tr>\n",
       "      <th>11300</th>\n",
       "      <td>11300</td>\n",
       "      <td>8461</td>\n",
       "      <td>10859</td>\n",
       "      <td>How do I improve my English speaking?</td>\n",
       "      <td>How can I specifically improve my English?</td>\n",
       "      <td>1</td>\n",
       "    </tr>\n",
       "    <tr>\n",
       "      <th>14828</th>\n",
       "      <td>14828</td>\n",
       "      <td>8461</td>\n",
       "      <td>11396</td>\n",
       "      <td>How do I improve my English speaking?</td>\n",
       "      <td>How can I improve my English speaking ability?</td>\n",
       "      <td>1</td>\n",
       "    </tr>\n",
       "    <tr>\n",
       "      <th>23369</th>\n",
       "      <td>23369</td>\n",
       "      <td>8461</td>\n",
       "      <td>2438</td>\n",
       "      <td>How do I improve my English speaking?</td>\n",
       "      <td>How can I improve my pronunciation in English?</td>\n",
       "      <td>1</td>\n",
       "    </tr>\n",
       "    <tr>\n",
       "      <th>27111</th>\n",
       "      <td>27111</td>\n",
       "      <td>8461</td>\n",
       "      <td>12214</td>\n",
       "      <td>How do I improve my English speaking?</td>\n",
       "      <td>How can I improve my pronunciation of English ...</td>\n",
       "      <td>1</td>\n",
       "    </tr>\n",
       "  </tbody>\n",
       "</table>\n",
       "</div>"
      ],
      "text/plain": [
       "          id  qid1   qid2                              question1  \\\n",
       "4279    4279  8461   8462  How do I improve my English speaking?   \n",
       "11300  11300  8461  10859  How do I improve my English speaking?   \n",
       "14828  14828  8461  11396  How do I improve my English speaking?   \n",
       "23369  23369  8461   2438  How do I improve my English speaking?   \n",
       "27111  27111  8461  12214  How do I improve my English speaking?   \n",
       "\n",
       "                                               question2  is_duplicate  \n",
       "4279       How do I improve my pronunciation in English?             1  \n",
       "11300         How can I specifically improve my English?             1  \n",
       "14828     How can I improve my English speaking ability?             1  \n",
       "23369     How can I improve my pronunciation in English?             1  \n",
       "27111  How can I improve my pronunciation of English ...             1  "
      ]
     },
     "execution_count": 53,
     "metadata": {},
     "output_type": "execute_result"
    }
   ],
   "source": [
    "df[df['qid1'] == 8461].head()"
   ]
  },
  {
   "cell_type": "code",
   "execution_count": 54,
   "metadata": {},
   "outputs": [
    {
     "data": {
      "text/plain": [
       "299364"
      ]
     },
     "execution_count": 54,
     "metadata": {},
     "output_type": "execute_result"
    }
   ],
   "source": [
    "df['qid2'].nunique()"
   ]
  },
  {
   "cell_type": "code",
   "execution_count": 55,
   "metadata": {},
   "outputs": [
    {
     "data": {
      "text/plain": [
       "(404290, 6)"
      ]
     },
     "execution_count": 55,
     "metadata": {},
     "output_type": "execute_result"
    }
   ],
   "source": [
    "df.shape"
   ]
  },
  {
   "cell_type": "code",
   "execution_count": 56,
   "metadata": {},
   "outputs": [
    {
     "data": {
      "image/png": "[encoded data removed]",
      "text/plain": [
       "<Figure size 640x480 with 1 Axes>"
      ]
     },
     "metadata": {},
     "output_type": "display_data"
    }
   ],
   "source": [
    "# graph the number of duplicate questions vs non dupes\n",
    "non_dupe = df[df['is_duplicate'] == 0]\n",
    "dupe = df[df['is_duplicate'] == 1]\n",
    "\n",
    "plt.bar(x = ['Duplicates', 'Non Duplicates'], height = [dupe.shape[0], non_dupe.shape[0]])\n",
    "plt.title('Duplicate vs. Non Duplicate Questions')\n",
    "plt.ylabel('Count')\n",
    "plt.show()"
   ]
  },
  {
   "cell_type": "code",
   "execution_count": 104,
   "metadata": {},
   "outputs": [
    {
     "data": {
      "text/plain": [
       "(255027, 6)"
      ]
     },
     "execution_count": 104,
     "metadata": {},
     "output_type": "execute_result"
    }
   ],
   "source": [
    "non_dupe.shape"
   ]
  },
  {
   "cell_type": "code",
   "execution_count": 105,
   "metadata": {},
   "outputs": [
    {
     "data": {
      "text/plain": [
       "(149263, 6)"
      ]
     },
     "execution_count": 105,
     "metadata": {},
     "output_type": "execute_result"
    }
   ],
   "source": [
    "dupe.shape"
   ]
  },
  {
   "cell_type": "markdown",
   "metadata": {},
   "source": [
    "### There are ~100000 more non duplicate questions than duplicates in the data"
   ]
  },
  {
   "cell_type": "code",
   "execution_count": 57,
   "metadata": {},
   "outputs": [
    {
     "data": {
      "text/plain": [
       "149263"
      ]
     },
     "execution_count": 57,
     "metadata": {},
     "output_type": "execute_result"
    }
   ],
   "source": [
    "dupe.shape[0]"
   ]
  },
  {
   "cell_type": "code",
   "execution_count": 58,
   "metadata": {},
   "outputs": [
    {
     "data": {
      "text/html": [
       "<div>\n",
       "<style scoped>\n",
       "    .dataframe tbody tr th:only-of-type {\n",
       "        vertical-align: middle;\n",
       "    }\n",
       "\n",
       "    .dataframe tbody tr th {\n",
       "        vertical-align: top;\n",
       "    }\n",
       "\n",
       "    .dataframe thead th {\n",
       "        text-align: right;\n",
       "    }\n",
       "</style>\n",
       "<table border=\"1\" class=\"dataframe\">\n",
       "  <thead>\n",
       "    <tr style=\"text-align: right;\">\n",
       "      <th></th>\n",
       "      <th>id</th>\n",
       "      <th>qid1</th>\n",
       "      <th>qid2</th>\n",
       "      <th>question1</th>\n",
       "      <th>question2</th>\n",
       "      <th>is_duplicate</th>\n",
       "    </tr>\n",
       "  </thead>\n",
       "  <tbody>\n",
       "    <tr>\n",
       "      <th>105780</th>\n",
       "      <td>105780</td>\n",
       "      <td>174363</td>\n",
       "      <td>174364</td>\n",
       "      <td>How can I develop android app?</td>\n",
       "      <td>NaN</td>\n",
       "      <td>0</td>\n",
       "    </tr>\n",
       "    <tr>\n",
       "      <th>201841</th>\n",
       "      <td>201841</td>\n",
       "      <td>303951</td>\n",
       "      <td>174364</td>\n",
       "      <td>How can I create an Android app?</td>\n",
       "      <td>NaN</td>\n",
       "      <td>0</td>\n",
       "    </tr>\n",
       "    <tr>\n",
       "      <th>363362</th>\n",
       "      <td>363362</td>\n",
       "      <td>493340</td>\n",
       "      <td>493341</td>\n",
       "      <td>NaN</td>\n",
       "      <td>My Chinese name is Haichao Yu. What English na...</td>\n",
       "      <td>0</td>\n",
       "    </tr>\n",
       "  </tbody>\n",
       "</table>\n",
       "</div>"
      ],
      "text/plain": [
       "            id    qid1    qid2                         question1  \\\n",
       "105780  105780  174363  174364    How can I develop android app?   \n",
       "201841  201841  303951  174364  How can I create an Android app?   \n",
       "363362  363362  493340  493341                               NaN   \n",
       "\n",
       "                                                question2  is_duplicate  \n",
       "105780                                                NaN             0  \n",
       "201841                                                NaN             0  \n",
       "363362  My Chinese name is Haichao Yu. What English na...             0  "
      ]
     },
     "execution_count": 58,
     "metadata": {},
     "output_type": "execute_result"
    }
   ],
   "source": [
    "df[df.isna().any(axis=1)]"
   ]
  },
  {
   "cell_type": "markdown",
   "metadata": {},
   "source": [
    "##### drop the null values"
   ]
  },
  {
   "cell_type": "code",
   "execution_count": 59,
   "metadata": {},
   "outputs": [],
   "source": [
    "df_null = df.dropna()"
   ]
  },
  {
   "cell_type": "code",
   "execution_count": 60,
   "metadata": {},
   "outputs": [
    {
     "data": {
      "text/plain": [
       "id              0\n",
       "qid1            0\n",
       "qid2            0\n",
       "question1       0\n",
       "question2       0\n",
       "is_duplicate    0\n",
       "dtype: int64"
      ]
     },
     "execution_count": 60,
     "metadata": {},
     "output_type": "execute_result"
    }
   ],
   "source": [
    "df_null.isna().sum()"
   ]
  },
  {
   "cell_type": "code",
   "execution_count": 61,
   "metadata": {},
   "outputs": [],
   "source": [
    "df_dupes = df_null[df_null['is_duplicate'] == 1]\n",
    "df_non_dupes = df_null[df_null['is_duplicate'] == 0]\n",
    "\n",
    "df_dupes = df_dupes.sample(100000, random_state= 123)\n",
    "df_non_dupes = df_non_dupes.sample(100000, random_state= 123)\n",
    "\n",
    "df_null = pd.concat([df_dupes, df_non_dupes])"
   ]
  },
  {
   "cell_type": "code",
   "execution_count": 62,
   "metadata": {},
   "outputs": [
    {
     "data": {
      "text/plain": [
       "(200000, 6)"
      ]
     },
     "execution_count": 62,
     "metadata": {},
     "output_type": "execute_result"
    }
   ],
   "source": [
    "df_null.shape"
   ]
  },
  {
   "cell_type": "code",
   "execution_count": 63,
   "metadata": {},
   "outputs": [],
   "source": [
    "df_processed = df_null.copy()"
   ]
  },
  {
   "cell_type": "code",
   "execution_count": 64,
   "metadata": {},
   "outputs": [
    {
     "data": {
      "text/html": [
       "<div>\n",
       "<style scoped>\n",
       "    .dataframe tbody tr th:only-of-type {\n",
       "        vertical-align: middle;\n",
       "    }\n",
       "\n",
       "    .dataframe tbody tr th {\n",
       "        vertical-align: top;\n",
       "    }\n",
       "\n",
       "    .dataframe thead th {\n",
       "        text-align: right;\n",
       "    }\n",
       "</style>\n",
       "<table border=\"1\" class=\"dataframe\">\n",
       "  <thead>\n",
       "    <tr style=\"text-align: right;\">\n",
       "      <th></th>\n",
       "      <th>id</th>\n",
       "      <th>qid1</th>\n",
       "      <th>qid2</th>\n",
       "      <th>question1</th>\n",
       "      <th>question2</th>\n",
       "      <th>is_duplicate</th>\n",
       "    </tr>\n",
       "  </thead>\n",
       "  <tbody>\n",
       "    <tr>\n",
       "      <th>216091</th>\n",
       "      <td>216091</td>\n",
       "      <td>42298</td>\n",
       "      <td>59575</td>\n",
       "      <td>What was the significance of the battle of Som...</td>\n",
       "      <td>What was the significance of the battle of Som...</td>\n",
       "      <td>1</td>\n",
       "    </tr>\n",
       "    <tr>\n",
       "      <th>309736</th>\n",
       "      <td>309736</td>\n",
       "      <td>433770</td>\n",
       "      <td>433771</td>\n",
       "      <td>What is the state of the art in natural langua...</td>\n",
       "      <td>What is the state-of-the-art of natural langua...</td>\n",
       "      <td>1</td>\n",
       "    </tr>\n",
       "    <tr>\n",
       "      <th>235371</th>\n",
       "      <td>235371</td>\n",
       "      <td>218549</td>\n",
       "      <td>29638</td>\n",
       "      <td>Is the iPhone really more expensive? Why or wh...</td>\n",
       "      <td>Why is iPhone so expensive?</td>\n",
       "      <td>1</td>\n",
       "    </tr>\n",
       "    <tr>\n",
       "      <th>76287</th>\n",
       "      <td>76287</td>\n",
       "      <td>41866</td>\n",
       "      <td>59185</td>\n",
       "      <td>How can I stop thinking about something?</td>\n",
       "      <td>How can i stop thinking about something/someone ?</td>\n",
       "      <td>1</td>\n",
       "    </tr>\n",
       "    <tr>\n",
       "      <th>83691</th>\n",
       "      <td>83691</td>\n",
       "      <td>141624</td>\n",
       "      <td>131268</td>\n",
       "      <td>Why is UK better than USA?</td>\n",
       "      <td>Which country do you like the most, UK or USA?...</td>\n",
       "      <td>1</td>\n",
       "    </tr>\n",
       "  </tbody>\n",
       "</table>\n",
       "</div>"
      ],
      "text/plain": [
       "            id    qid1    qid2  \\\n",
       "216091  216091   42298   59575   \n",
       "309736  309736  433770  433771   \n",
       "235371  235371  218549   29638   \n",
       "76287    76287   41866   59185   \n",
       "83691    83691  141624  131268   \n",
       "\n",
       "                                                question1  \\\n",
       "216091  What was the significance of the battle of Som...   \n",
       "309736  What is the state of the art in natural langua...   \n",
       "235371  Is the iPhone really more expensive? Why or wh...   \n",
       "76287            How can I stop thinking about something?   \n",
       "83691                          Why is UK better than USA?   \n",
       "\n",
       "                                                question2  is_duplicate  \n",
       "216091  What was the significance of the battle of Som...             1  \n",
       "309736  What is the state-of-the-art of natural langua...             1  \n",
       "235371                        Why is iPhone so expensive?             1  \n",
       "76287   How can i stop thinking about something/someone ?             1  \n",
       "83691   Which country do you like the most, UK or USA?...             1  "
      ]
     },
     "execution_count": 64,
     "metadata": {},
     "output_type": "execute_result"
    }
   ],
   "source": [
    "df_processed.head()"
   ]
  },
  {
   "cell_type": "code",
   "execution_count": 101,
   "metadata": {},
   "outputs": [
    {
     "data": {
      "text/html": [
       "<div>\n",
       "<style scoped>\n",
       "    .dataframe tbody tr th:only-of-type {\n",
       "        vertical-align: middle;\n",
       "    }\n",
       "\n",
       "    .dataframe tbody tr th {\n",
       "        vertical-align: top;\n",
       "    }\n",
       "\n",
       "    .dataframe thead th {\n",
       "        text-align: right;\n",
       "    }\n",
       "</style>\n",
       "<table border=\"1\" class=\"dataframe\">\n",
       "  <thead>\n",
       "    <tr style=\"text-align: right;\">\n",
       "      <th></th>\n",
       "      <th>id</th>\n",
       "      <th>qid1</th>\n",
       "      <th>qid2</th>\n",
       "      <th>question1</th>\n",
       "      <th>question2</th>\n",
       "      <th>is_duplicate</th>\n",
       "      <th>question1_processed</th>\n",
       "      <th>question2_processed</th>\n",
       "    </tr>\n",
       "  </thead>\n",
       "  <tbody>\n",
       "    <tr>\n",
       "      <th>216091</th>\n",
       "      <td>216091</td>\n",
       "      <td>42298</td>\n",
       "      <td>59575</td>\n",
       "      <td>What was the significance of the battle of Som...</td>\n",
       "      <td>What was the significance of the battle of Som...</td>\n",
       "      <td>1</td>\n",
       "      <td>[signific, battl, somm, battl, compar, contras...</td>\n",
       "      <td>[signific, battl, somm, battl, compar, contras...</td>\n",
       "    </tr>\n",
       "    <tr>\n",
       "      <th>309736</th>\n",
       "      <td>309736</td>\n",
       "      <td>433770</td>\n",
       "      <td>433771</td>\n",
       "      <td>What is the state of the art in natural langua...</td>\n",
       "      <td>What is the state-of-the-art of natural langua...</td>\n",
       "      <td>1</td>\n",
       "      <td>[state, art, natur, languag, understand]</td>\n",
       "      <td>[stateoftheart, natur, languag, understand]</td>\n",
       "    </tr>\n",
       "    <tr>\n",
       "      <th>235371</th>\n",
       "      <td>235371</td>\n",
       "      <td>218549</td>\n",
       "      <td>29638</td>\n",
       "      <td>Is the iPhone really more expensive? Why or wh...</td>\n",
       "      <td>Why is iPhone so expensive?</td>\n",
       "      <td>1</td>\n",
       "      <td>[iphon, realli, expens]</td>\n",
       "      <td>[iphon, expens]</td>\n",
       "    </tr>\n",
       "    <tr>\n",
       "      <th>76287</th>\n",
       "      <td>76287</td>\n",
       "      <td>41866</td>\n",
       "      <td>59185</td>\n",
       "      <td>How can I stop thinking about something?</td>\n",
       "      <td>How can i stop thinking about something/someone ?</td>\n",
       "      <td>1</td>\n",
       "      <td>[stop, think, someth]</td>\n",
       "      <td>[stop, think, somethingsomeon, ]</td>\n",
       "    </tr>\n",
       "    <tr>\n",
       "      <th>83691</th>\n",
       "      <td>83691</td>\n",
       "      <td>141624</td>\n",
       "      <td>131268</td>\n",
       "      <td>Why is UK better than USA?</td>\n",
       "      <td>Which country do you like the most, UK or USA?...</td>\n",
       "      <td>1</td>\n",
       "      <td>[uk, better, usa]</td>\n",
       "      <td>[countri, like, uk, usa]</td>\n",
       "    </tr>\n",
       "    <tr>\n",
       "      <th>...</th>\n",
       "      <td>...</td>\n",
       "      <td>...</td>\n",
       "      <td>...</td>\n",
       "      <td>...</td>\n",
       "      <td>...</td>\n",
       "      <td>...</td>\n",
       "      <td>...</td>\n",
       "      <td>...</td>\n",
       "    </tr>\n",
       "    <tr>\n",
       "      <th>321323</th>\n",
       "      <td>321323</td>\n",
       "      <td>447010</td>\n",
       "      <td>447011</td>\n",
       "      <td>How can I make website designer and change his...</td>\n",
       "      <td>How can I make website designer and change his...</td>\n",
       "      <td>1</td>\n",
       "      <td>[make, websit, design, chang, line, donig, ema...</td>\n",
       "      <td>[make, websit, design, chang, line, email, mar...</td>\n",
       "    </tr>\n",
       "    <tr>\n",
       "      <th>257929</th>\n",
       "      <td>257929</td>\n",
       "      <td>373353</td>\n",
       "      <td>373354</td>\n",
       "      <td>Is it normal to get headaches when wearing new...</td>\n",
       "      <td>Is it normal to get headaches when you wear ne...</td>\n",
       "      <td>1</td>\n",
       "      <td>[normal, get, headach, wear, new, glass, ]</td>\n",
       "      <td>[normal, get, headach, wear, new, glass]</td>\n",
       "    </tr>\n",
       "    <tr>\n",
       "      <th>6395</th>\n",
       "      <td>6395</td>\n",
       "      <td>12532</td>\n",
       "      <td>12533</td>\n",
       "      <td>If you remove someone from the people you may ...</td>\n",
       "      <td>If I remove someone who I think keeps viewing ...</td>\n",
       "      <td>1</td>\n",
       "      <td>[remov, someon, peopl, may, know, list, facebo...</td>\n",
       "      <td>[remov, someon, think, keep, view, facebook, p...</td>\n",
       "    </tr>\n",
       "    <tr>\n",
       "      <th>234123</th>\n",
       "      <td>234123</td>\n",
       "      <td>344542</td>\n",
       "      <td>344543</td>\n",
       "      <td>Startups: Do you need to have product ready to...</td>\n",
       "      <td>Do you need to have the product ready to get V...</td>\n",
       "      <td>1</td>\n",
       "      <td>[startup, need, product, readi, seek, fund, id...</td>\n",
       "      <td>[need, product, readi, get, vc, fund, enough, ...</td>\n",
       "    </tr>\n",
       "    <tr>\n",
       "      <th>363112</th>\n",
       "      <td>363112</td>\n",
       "      <td>490105</td>\n",
       "      <td>10946</td>\n",
       "      <td>What should i do to gain weight quickly?</td>\n",
       "      <td>How could I gain weight quickly?</td>\n",
       "      <td>1</td>\n",
       "      <td>[gain, weight, quickli]</td>\n",
       "      <td>[could, gain, weight, quickli]</td>\n",
       "    </tr>\n",
       "  </tbody>\n",
       "</table>\n",
       "<p>100000 rows × 8 columns</p>\n",
       "</div>"
      ],
      "text/plain": [
       "            id    qid1    qid2  \\\n",
       "216091  216091   42298   59575   \n",
       "309736  309736  433770  433771   \n",
       "235371  235371  218549   29638   \n",
       "76287    76287   41866   59185   \n",
       "83691    83691  141624  131268   \n",
       "...        ...     ...     ...   \n",
       "321323  321323  447010  447011   \n",
       "257929  257929  373353  373354   \n",
       "6395      6395   12532   12533   \n",
       "234123  234123  344542  344543   \n",
       "363112  363112  490105   10946   \n",
       "\n",
       "                                                question1  \\\n",
       "216091  What was the significance of the battle of Som...   \n",
       "309736  What is the state of the art in natural langua...   \n",
       "235371  Is the iPhone really more expensive? Why or wh...   \n",
       "76287            How can I stop thinking about something?   \n",
       "83691                          Why is UK better than USA?   \n",
       "...                                                   ...   \n",
       "321323  How can I make website designer and change his...   \n",
       "257929  Is it normal to get headaches when wearing new...   \n",
       "6395    If you remove someone from the people you may ...   \n",
       "234123  Startups: Do you need to have product ready to...   \n",
       "363112           What should i do to gain weight quickly?   \n",
       "\n",
       "                                                question2  is_duplicate  \\\n",
       "216091  What was the significance of the battle of Som...             1   \n",
       "309736  What is the state-of-the-art of natural langua...             1   \n",
       "235371                        Why is iPhone so expensive?             1   \n",
       "76287   How can i stop thinking about something/someone ?             1   \n",
       "83691   Which country do you like the most, UK or USA?...             1   \n",
       "...                                                   ...           ...   \n",
       "321323  How can I make website designer and change his...             1   \n",
       "257929  Is it normal to get headaches when you wear ne...             1   \n",
       "6395    If I remove someone who I think keeps viewing ...             1   \n",
       "234123  Do you need to have the product ready to get V...             1   \n",
       "363112                   How could I gain weight quickly?             1   \n",
       "\n",
       "                                      question1_processed  \\\n",
       "216091  [signific, battl, somm, battl, compar, contras...   \n",
       "309736           [state, art, natur, languag, understand]   \n",
       "235371                            [iphon, realli, expens]   \n",
       "76287                               [stop, think, someth]   \n",
       "83691                                   [uk, better, usa]   \n",
       "...                                                   ...   \n",
       "321323  [make, websit, design, chang, line, donig, ema...   \n",
       "257929         [normal, get, headach, wear, new, glass, ]   \n",
       "6395    [remov, someon, peopl, may, know, list, facebo...   \n",
       "234123  [startup, need, product, readi, seek, fund, id...   \n",
       "363112                            [gain, weight, quickli]   \n",
       "\n",
       "                                      question2_processed  \n",
       "216091  [signific, battl, somm, battl, compar, contras...  \n",
       "309736        [stateoftheart, natur, languag, understand]  \n",
       "235371                                    [iphon, expens]  \n",
       "76287                    [stop, think, somethingsomeon, ]  \n",
       "83691                            [countri, like, uk, usa]  \n",
       "...                                                   ...  \n",
       "321323  [make, websit, design, chang, line, email, mar...  \n",
       "257929           [normal, get, headach, wear, new, glass]  \n",
       "6395    [remov, someon, think, keep, view, facebook, p...  \n",
       "234123  [need, product, readi, get, vc, fund, enough, ...  \n",
       "363112                     [could, gain, weight, quickli]  \n",
       "\n",
       "[100000 rows x 8 columns]"
      ]
     },
     "execution_count": 101,
     "metadata": {},
     "output_type": "execute_result"
    }
   ],
   "source": [
    "df_processed[df_processed['is_duplicate'] == 1]"
   ]
  },
  {
   "cell_type": "code",
   "execution_count": 112,
   "metadata": {},
   "outputs": [
    {
     "data": {
      "text/plain": [
       "array([[287359, 408126, 408127,\n",
       "        'What are some interesting facts about Pennsylvania?',\n",
       "        \"What are some interesting facts about Pennsylvania that many Pennsylvania locals don't even know about?\",\n",
       "        0, list(['interest', 'fact', 'pennsylvania']),\n",
       "        list(['interest', 'fact', 'pennsylvania', 'mani', 'pennsylvania', 'local', 'dont', 'even', 'know'])]],\n",
       "      dtype=object)"
      ]
     },
     "execution_count": 112,
     "metadata": {},
     "output_type": "execute_result"
    }
   ],
   "source": [
    "df_processed[df_processed['id'] == 287359].values"
   ]
  },
  {
   "cell_type": "code",
   "execution_count": 120,
   "metadata": {},
   "outputs": [
    {
     "data": {
      "text/plain": [
       "235371    ['iphon', 'expens']\n",
       "Name: question2_processed, dtype: object"
      ]
     },
     "execution_count": 120,
     "metadata": {},
     "output_type": "execute_result"
    }
   ],
   "source": [
    "df_processed[df_processed['id'] == 235371]['question2_processed'].astype(str)"
   ]
  },
  {
   "cell_type": "code",
   "execution_count": 121,
   "metadata": {},
   "outputs": [
    {
     "data": {
      "text/plain": [
       "363112    ['could', 'gain', 'weight', 'quickli']\n",
       "Name: question2_processed, dtype: object"
      ]
     },
     "execution_count": 121,
     "metadata": {},
     "output_type": "execute_result"
    }
   ],
   "source": [
    "df_processed[df_processed['id'] == 363112]['question2_processed'].astype(str)"
   ]
  },
  {
   "cell_type": "markdown",
   "metadata": {},
   "source": [
    "### Cleaning\n",
    "\n",
    "- Tokenization\n",
    "- Stopwords cleaning\n",
    "- Removing punctuation\n",
    "- Normalizing\n",
    "- Stemming"
   ]
  },
  {
   "cell_type": "code",
   "execution_count": 65,
   "metadata": {},
   "outputs": [],
   "source": [
    "# take from NLP data_prep exercise\n",
    "from text_preprocess import *"
   ]
  },
  {
   "cell_type": "code",
   "execution_count": 66,
   "metadata": {},
   "outputs": [],
   "source": [
    "df_processed['question1_processed'] = df_null['question1'].apply(lambda x: preprocess(x))\n",
    "df_processed['question2_processed'] = df_null['question2'].apply(lambda x: preprocess(x))"
   ]
  },
  {
   "cell_type": "code",
   "execution_count": 106,
   "metadata": {},
   "outputs": [
    {
     "data": {
      "text/plain": [
       "['step', 'step', 'guid', 'invest', 'share', 'market', 'india']"
      ]
     },
     "execution_count": 106,
     "metadata": {},
     "output_type": "execute_result"
    }
   ],
   "source": [
    "preprocess(non_dupe['question1'].iloc[0])"
   ]
  },
  {
   "cell_type": "code",
   "execution_count": 107,
   "metadata": {},
   "outputs": [
    {
     "data": {
      "text/plain": [
       "['step', 'step', 'guid', 'invest', 'share', 'market']"
      ]
     },
     "execution_count": 107,
     "metadata": {},
     "output_type": "execute_result"
    }
   ],
   "source": [
    "preprocess(non_dupe['question2'].iloc[0])"
   ]
  },
  {
   "cell_type": "code",
   "execution_count": 67,
   "metadata": {},
   "outputs": [
    {
     "data": {
      "text/html": [
       "<div>\n",
       "<style scoped>\n",
       "    .dataframe tbody tr th:only-of-type {\n",
       "        vertical-align: middle;\n",
       "    }\n",
       "\n",
       "    .dataframe tbody tr th {\n",
       "        vertical-align: top;\n",
       "    }\n",
       "\n",
       "    .dataframe thead th {\n",
       "        text-align: right;\n",
       "    }\n",
       "</style>\n",
       "<table border=\"1\" class=\"dataframe\">\n",
       "  <thead>\n",
       "    <tr style=\"text-align: right;\">\n",
       "      <th></th>\n",
       "      <th>id</th>\n",
       "      <th>qid1</th>\n",
       "      <th>qid2</th>\n",
       "      <th>question1</th>\n",
       "      <th>question2</th>\n",
       "      <th>is_duplicate</th>\n",
       "      <th>question1_processed</th>\n",
       "      <th>question2_processed</th>\n",
       "    </tr>\n",
       "  </thead>\n",
       "  <tbody>\n",
       "    <tr>\n",
       "      <th>216091</th>\n",
       "      <td>216091</td>\n",
       "      <td>42298</td>\n",
       "      <td>59575</td>\n",
       "      <td>What was the significance of the battle of Som...</td>\n",
       "      <td>What was the significance of the battle of Som...</td>\n",
       "      <td>1</td>\n",
       "      <td>[signific, battl, somm, battl, compar, contras...</td>\n",
       "      <td>[signific, battl, somm, battl, compar, contras...</td>\n",
       "    </tr>\n",
       "    <tr>\n",
       "      <th>309736</th>\n",
       "      <td>309736</td>\n",
       "      <td>433770</td>\n",
       "      <td>433771</td>\n",
       "      <td>What is the state of the art in natural langua...</td>\n",
       "      <td>What is the state-of-the-art of natural langua...</td>\n",
       "      <td>1</td>\n",
       "      <td>[state, art, natur, languag, understand]</td>\n",
       "      <td>[stateoftheart, natur, languag, understand]</td>\n",
       "    </tr>\n",
       "    <tr>\n",
       "      <th>235371</th>\n",
       "      <td>235371</td>\n",
       "      <td>218549</td>\n",
       "      <td>29638</td>\n",
       "      <td>Is the iPhone really more expensive? Why or wh...</td>\n",
       "      <td>Why is iPhone so expensive?</td>\n",
       "      <td>1</td>\n",
       "      <td>[iphon, realli, expens]</td>\n",
       "      <td>[iphon, expens]</td>\n",
       "    </tr>\n",
       "    <tr>\n",
       "      <th>76287</th>\n",
       "      <td>76287</td>\n",
       "      <td>41866</td>\n",
       "      <td>59185</td>\n",
       "      <td>How can I stop thinking about something?</td>\n",
       "      <td>How can i stop thinking about something/someone ?</td>\n",
       "      <td>1</td>\n",
       "      <td>[stop, think, someth]</td>\n",
       "      <td>[stop, think, somethingsomeon, ]</td>\n",
       "    </tr>\n",
       "    <tr>\n",
       "      <th>83691</th>\n",
       "      <td>83691</td>\n",
       "      <td>141624</td>\n",
       "      <td>131268</td>\n",
       "      <td>Why is UK better than USA?</td>\n",
       "      <td>Which country do you like the most, UK or USA?...</td>\n",
       "      <td>1</td>\n",
       "      <td>[uk, better, usa]</td>\n",
       "      <td>[countri, like, uk, usa]</td>\n",
       "    </tr>\n",
       "  </tbody>\n",
       "</table>\n",
       "</div>"
      ],
      "text/plain": [
       "            id    qid1    qid2  \\\n",
       "216091  216091   42298   59575   \n",
       "309736  309736  433770  433771   \n",
       "235371  235371  218549   29638   \n",
       "76287    76287   41866   59185   \n",
       "83691    83691  141624  131268   \n",
       "\n",
       "                                                question1  \\\n",
       "216091  What was the significance of the battle of Som...   \n",
       "309736  What is the state of the art in natural langua...   \n",
       "235371  Is the iPhone really more expensive? Why or wh...   \n",
       "76287            How can I stop thinking about something?   \n",
       "83691                          Why is UK better than USA?   \n",
       "\n",
       "                                                question2  is_duplicate  \\\n",
       "216091  What was the significance of the battle of Som...             1   \n",
       "309736  What is the state-of-the-art of natural langua...             1   \n",
       "235371                        Why is iPhone so expensive?             1   \n",
       "76287   How can i stop thinking about something/someone ?             1   \n",
       "83691   Which country do you like the most, UK or USA?...             1   \n",
       "\n",
       "                                      question1_processed  \\\n",
       "216091  [signific, battl, somm, battl, compar, contras...   \n",
       "309736           [state, art, natur, languag, understand]   \n",
       "235371                            [iphon, realli, expens]   \n",
       "76287                               [stop, think, someth]   \n",
       "83691                                   [uk, better, usa]   \n",
       "\n",
       "                                      question2_processed  \n",
       "216091  [signific, battl, somm, battl, compar, contras...  \n",
       "309736        [stateoftheart, natur, languag, understand]  \n",
       "235371                                    [iphon, expens]  \n",
       "76287                    [stop, think, somethingsomeon, ]  \n",
       "83691                            [countri, like, uk, usa]  "
      ]
     },
     "execution_count": 67,
     "metadata": {},
     "output_type": "execute_result"
    }
   ],
   "source": [
    "df_processed.head()"
   ]
  },
  {
   "cell_type": "markdown",
   "metadata": {},
   "source": [
    "### Feature Engineering\n",
    "\n",
    "- tf-idf\n",
    "- word2vec\n",
    "- word count\n",
    "- number of the same words in both questions\n",
    "- ...."
   ]
  },
  {
   "cell_type": "code",
   "execution_count": 68,
   "metadata": {},
   "outputs": [],
   "source": [
    "# import vectorizers for BagOfWords and TFIDF\n",
    "from sklearn.feature_extraction.text import CountVectorizer\n",
    "from sklearn.feature_extraction.text import TfidfVectorizer\n",
    "from sklearn.model_selection import train_test_split\n",
    "from sklearn.metrics.pairwise import cosine_similarity"
   ]
  },
  {
   "cell_type": "code",
   "execution_count": 69,
   "metadata": {},
   "outputs": [],
   "source": [
    "y = df_processed['is_duplicate']\n",
    "X = df_processed.drop('is_duplicate', axis = 1)"
   ]
  },
  {
   "cell_type": "code",
   "execution_count": 70,
   "metadata": {},
   "outputs": [],
   "source": [
    "X_train, X_test, y_train, y_test = train_test_split(X, y, test_size=0.3, random_state=123)"
   ]
  },
  {
   "cell_type": "code",
   "execution_count": 71,
   "metadata": {},
   "outputs": [],
   "source": [
    "# make corpus from training set\n",
    "q1_train = X_train['question1_processed'].astype(str)\n",
    "q2_train = X_train['question2_processed'].astype(str)\n",
    "question_corpus = q1_train + q2_train"
   ]
  },
  {
   "cell_type": "code",
   "execution_count": 72,
   "metadata": {},
   "outputs": [],
   "source": [
    "# vectorize the top 25000 words\n",
    "vectorizer = CountVectorizer(max_features=25000)\n",
    "\n",
    "# fit the vectorizer on the training set\n",
    "vectorizer.fit(question_corpus)\n",
    "\n",
    "# transform train set\n",
    "count_q1_train = vectorizer.transform(q1_train)\n",
    "count_q2_train = vectorizer.transform(q2_train)\n",
    "count_X_train = count_q1_train + count_q2_train\n",
    "\n",
    "# transform test set\n",
    "count_q1_test = vectorizer.transform(X_test['question1_processed'].astype(str))\n",
    "count_q2_test = vectorizer.transform(X_test['question2_processed'].astype(str))\n",
    "count_X_test = count_q1_test + count_q2_test"
   ]
  },
  {
   "cell_type": "code",
   "execution_count": 73,
   "metadata": {},
   "outputs": [],
   "source": [
    "# make csvs to move to docker environment\n",
    "df_processed.to_csv(\"../data/processed.csv\")"
   ]
  },
  {
   "cell_type": "markdown",
   "metadata": {},
   "source": [
    "### Modeling\n",
    "\n",
    "Different modeling techniques can be used:\n",
    "\n",
    "- logistic regression\n",
    "- XGBoost\n",
    "- LSTMs\n",
    "- etc"
   ]
  },
  {
   "cell_type": "code",
   "execution_count": 74,
   "metadata": {},
   "outputs": [],
   "source": [
    "from sklearn.linear_model import LogisticRegression\n",
    "from sklearn.metrics import confusion_matrix, accuracy_score, recall_score, precision_score\n",
    "from sklearn.metrics import ConfusionMatrixDisplay\n",
    "from sklearn.metrics import roc_curve\n",
    "from sklearn.metrics import roc_auc_score\n",
    "from sklearn.metrics import log_loss"
   ]
  },
  {
   "cell_type": "code",
   "execution_count": 133,
   "metadata": {},
   "outputs": [],
   "source": [
    "# logistic regression on CountVectorizer\n",
    "count_log_clf = LogisticRegression(C=0.5, max_iter=1000)\n",
    "count_log_clf.fit(count_X_train, y_train)\n",
    "\n",
    "count_y_pred = count_log_clf.predict(count_X_test)\n",
    "count_y_proba = count_log_clf.predict_proba(count_X_test)"
   ]
  },
  {
   "cell_type": "code",
   "execution_count": 127,
   "metadata": {},
   "outputs": [
    {
     "data": {
      "text/plain": [
       "array([[0.46016599, 0.53983401],\n",
       "       [0.2197614 , 0.7802386 ],\n",
       "       [0.6567779 , 0.3432221 ],\n",
       "       ...,\n",
       "       [0.58196385, 0.41803615],\n",
       "       [0.21118451, 0.78881549],\n",
       "       [0.77168799, 0.22831201]])"
      ]
     },
     "execution_count": 127,
     "metadata": {},
     "output_type": "execute_result"
    }
   ],
   "source": [
    "count_y_proba"
   ]
  },
  {
   "cell_type": "code",
   "execution_count": 134,
   "metadata": {},
   "outputs": [
    {
     "data": {
      "image/png": "[encoded data removed]",
      "text/plain": [
       "<Figure size 640x480 with 2 Axes>"
      ]
     },
     "metadata": {},
     "output_type": "display_data"
    }
   ],
   "source": [
    "cm = confusion_matrix(count_y_pred, y_test)\n",
    "disp = ConfusionMatrixDisplay(cm)\n",
    "disp.plot(cmap=plt.cm.Blues)\n",
    "plt.show()"
   ]
  },
  {
   "cell_type": "code",
   "execution_count": 129,
   "metadata": {},
   "outputs": [],
   "source": [
    "def get_metrics(pred, true):\n",
    "    print(f'Accuracy Score: {accuracy_score(true,pred)}')\n",
    "    print(f'Precision Score: {precision_score(true,pred)}')\n",
    "    print(f'Recall Score: {recall_score(true,pred)}')"
   ]
  },
  {
   "cell_type": "code",
   "execution_count": 130,
   "metadata": {},
   "outputs": [
    {
     "name": "stdout",
     "output_type": "stream",
     "text": [
      "Accuracy Score: 0.7154\n",
      "Precision Score: 0.7099831780538303\n",
      "Recall Score: 0.7301550336017034\n",
      "Log Loss: 0.5593986268134513\n"
     ]
    }
   ],
   "source": [
    "get_metrics(count_y_pred, y_test)\n",
    "print(f'Log Loss: {log_loss(y_test,count_y_proba)}')"
   ]
  },
  {
   "cell_type": "code",
   "execution_count": 79,
   "metadata": {},
   "outputs": [
    {
     "name": "stdout",
     "output_type": "stream",
     "text": [
      "No Skill: ROC AUC=0.500\n",
      "Logistic: ROC AUC=0.715\n"
     ]
    },
    {
     "data": {
      "image/png": "[encoded data removed]",
      "text/plain": [
       "<Figure size 640x480 with 1 Axes>"
      ]
     },
     "metadata": {},
     "output_type": "display_data"
    }
   ],
   "source": [
    "# generate a no skill prob\n",
    "no_skill = [0 for _ in range(len(y_test))]\n",
    "# calculate scores\n",
    "ns_auc = roc_auc_score(y_test, no_skill)\n",
    "lr_auc = roc_auc_score(y_test, count_y_pred)\n",
    "# summarize scores\n",
    "print('No Skill: ROC AUC=%.3f' % (ns_auc))\n",
    "print('Logistic: ROC AUC=%.3f' % (lr_auc))\n",
    "# calculate roc curves\n",
    "ns_fpr, ns_tpr, _ = roc_curve(y_test, no_skill)\n",
    "lr_fpr, lr_tpr, _ = roc_curve(y_test, count_y_pred)\n",
    "# plot the roc curve for the model\n",
    "plt.plot(ns_fpr, ns_tpr, linestyle='--', label='No Skill')\n",
    "plt.plot(lr_fpr, lr_tpr, marker='.', label='Logistic')\n",
    "# axis labels\n",
    "plt.xlabel('False Positive Rate')\n",
    "plt.ylabel('True Positive Rate')\n",
    "# show the legend\n",
    "plt.legend()\n",
    "# show the plot\n",
    "plt.show()"
   ]
  },
  {
   "cell_type": "code",
   "execution_count": null,
   "metadata": {},
   "outputs": [],
   "source": []
  },
  {
   "cell_type": "code",
   "execution_count": 80,
   "metadata": {},
   "outputs": [],
   "source": [
    "import xgboost as xgb"
   ]
  },
  {
   "cell_type": "code",
   "execution_count": 131,
   "metadata": {},
   "outputs": [],
   "source": [
    "# xgb on Count Vectorizer\n",
    "count_xgb = xgb.XGBClassifier(objective='binary:logistic', eval_metric = \"logloss\")\n",
    "count_xgb.fit(count_X_train, y_train)\n",
    "\n",
    "count_y_pred = count_xgb.predict(count_X_test)\n",
    "count_y_proba = count_xgb.predict_proba(count_X_test)"
   ]
  },
  {
   "cell_type": "code",
   "execution_count": 132,
   "metadata": {},
   "outputs": [
    {
     "data": {
      "image/png": "[encoded data removed]",
      "text/plain": [
       "<Figure size 640x480 with 2 Axes>"
      ]
     },
     "metadata": {},
     "output_type": "display_data"
    },
    {
     "name": "stdout",
     "output_type": "stream",
     "text": [
      "Accuracy Score: 0.7276833333333333\n",
      "Precision Score: 0.7052943465118368\n",
      "Recall Score: 0.7840175660389913\n",
      "Log Loss: 0.5453490453411398\n"
     ]
    }
   ],
   "source": [
    "cm = confusion_matrix(count_y_pred, y_test)\n",
    "disp = ConfusionMatrixDisplay(cm)\n",
    "disp.plot(cmap=plt.cm.Blues)\n",
    "plt.show()\n",
    "get_metrics(count_y_pred, y_test)\n",
    "print(f'Log Loss: {log_loss(y_test,count_y_proba)}')"
   ]
  },
  {
   "cell_type": "code",
   "execution_count": 83,
   "metadata": {},
   "outputs": [
    {
     "name": "stdout",
     "output_type": "stream",
     "text": [
      "No Skill: ROC AUC=0.500\n",
      "Logistic: ROC AUC=0.728\n"
     ]
    },
    {
     "data": {
      "image/png": "[encoded data removed]",
      "text/plain": [
       "<Figure size 640x480 with 1 Axes>"
      ]
     },
     "metadata": {},
     "output_type": "display_data"
    }
   ],
   "source": [
    "# calculate scores\n",
    "ns_auc = roc_auc_score(y_test, no_skill)\n",
    "lr_auc = roc_auc_score(y_test, count_y_pred)\n",
    "# summarize scores\n",
    "print('No Skill: ROC AUC=%.3f' % (ns_auc))\n",
    "print('Logistic: ROC AUC=%.3f' % (lr_auc))\n",
    "# calculate roc curves\n",
    "ns_fpr, ns_tpr, _ = roc_curve(y_test, no_skill)\n",
    "lr_fpr, lr_tpr, _ = roc_curve(y_test, count_y_pred)\n",
    "# plot the roc curve for the model\n",
    "plt.plot(ns_fpr, ns_tpr, linestyle='--', label='No Skill')\n",
    "plt.plot(lr_fpr, lr_tpr, marker='.', label='XGB')\n",
    "# axis labels\n",
    "plt.xlabel('False Positive Rate')\n",
    "plt.ylabel('True Positive Rate')\n",
    "# show the legend\n",
    "plt.legend()\n",
    "# show the plot\n",
    "plt.show()"
   ]
  },
  {
   "cell_type": "code",
   "execution_count": 84,
   "metadata": {},
   "outputs": [],
   "source": [
    "params = {\n",
    "    'min_child_weight': [1, 5, 10],\n",
    "    'gamma': [0.5, 1, 1.5, 2, 5],\n",
    "    'subsample': [0.6, 0.8, 1.0],\n",
    "    'colsample_bytree': [0.6, 0.8, 1.0],\n",
    "    'max_depth': [3, 4, 5]\n",
    "}\n"
   ]
  },
  {
   "cell_type": "code",
   "execution_count": 85,
   "metadata": {},
   "outputs": [],
   "source": [
    "from sklearn.model_selection import GridSearchCV\n"
   ]
  },
  {
   "cell_type": "code",
   "execution_count": 86,
   "metadata": {},
   "outputs": [],
   "source": [
    "# grid search not finishing\n",
    "# grid = GridSearchCV(count_xgb, params)\n",
    "\n",
    "# grid.fit(count_X_train, y_train)"
   ]
  },
  {
   "cell_type": "code",
   "execution_count": null,
   "metadata": {},
   "outputs": [],
   "source": []
  }
 ],
 "metadata": {
  "kernelspec": {
   "display_name": "Python 3.8.13 ('THE_ONE')",
   "language": "python",
   "name": "python3"
  },
  "language_info": {
   "codemirror_mode": {
    "name": "ipython",
    "version": 3
   },
   "file_extension": ".py",
   "mimetype": "text/x-python",
   "name": "python",
   "nbconvert_exporter": "python",
   "pygments_lexer": "ipython3",
   "version": "3.8.13"
  },
  "vscode": {
   "interpreter": {
    "hash": "ba21b04416bd6bb7d943d6e1e30db1b014094e2c4596ae230c1b8e6f1c8e2c12"
   }
  }
 },
 "nbformat": 4,
 "nbformat_minor": 4
}
